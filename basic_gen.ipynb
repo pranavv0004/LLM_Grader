{
 "cells": [
  {
   "cell_type": "code",
   "execution_count": null,
   "id": "32d8cc23",
   "metadata": {},
   "outputs": [],
   "source": [
    "!pip install google.generativeai"
   ]
  },
  {
   "cell_type": "code",
   "execution_count": null,
   "id": "be1b5ea8",
   "metadata": {},
   "outputs": [],
   "source": [
    "import google.generativeai as genai\n",
    "\n",
    "\n",
    "genai.configure(api_key=\"\")  # Replace with your actual API key or use secrets\n",
    "\n",
    "# System prompts\n",
    "interviewer_system = \"\"\"You are an interviewer in a system design interview.\n",
    "- Your role: Ask one clear, probing system design question per turn.\n",
    "- Keep questions short and challenging.\n",
    "- Focus on tradeoffs, scalability, and edge cases.\n",
    "- Format output strictly as:\n",
    "Interviewer: <your question here>\n",
    "\"\"\"\n",
    "\n",
    "candidate_system = \"\"\"You are a candidate in a system design interview.\n",
    "- Your role: Answer thoughtfully, but be realistic.\n",
    "- Behaviors to include:\n",
    "   * Sometimes hesitate (\"Hmm, let me think...\")\n",
    "   * Occasionally give an incorrect answer, then correct yourself.\n",
    "   * Sometimes be brilliant with sharp insights.\n",
    "- Keep answers 2–5 sentences long.\n",
    "- Format output strictly as:\n",
    "Candidate: <your answer here>\n",
    "\"\"\"\n",
    "\n",
    "# Initialize models\n",
    "interviewer = genai.GenerativeModel(\"gemini-2.5-flash\", system_instruction=interviewer_system)\n",
    "candidate = genai.GenerativeModel(\"gemini-2.5-flash\", system_instruction=candidate_system)\n",
    "\n",
    "def ask_model(model, conversation):\n",
    "    response = model.generate_content(contents=conversation)\n",
    "    return response.text.strip()\n",
    "\n",
    "# Example conversation history to guide the models\n",
    "history = [\n",
    "    \"Interviewer: Let’s begin. How would you design a URL shortener like bit.ly?\",\n",
    "    \"Candidate: Hmm… okay, so the basic idea is we take a long URL, store it in a database, and generate a short code for it. Then when a user hits that short code, we redirect them back to the original URL.\",\n",
    "    \"Interviewer: That works for a small setup. But let’s say you need to handle hundreds of millions of URLs. How would you scale it?\",\n",
    "    \"Candidate: Uh, right… a single relational database probably won’t scale. Maybe… hmm… we could use sharding by hash of the URL? Or actually, maybe a distributed key-value store, like Cassandra or DynamoDB, would make more sense since we just need fast lookups.\",\n",
    "]\n",
    "\n",
    "# Strictly alternate turns: interviewer then candidate\n",
    "turn = \"interviewer\"  \n",
    "for _ in range(5):\n",
    "    if turn == \"interviewer\":\n",
    "        interviewer_input = history[-1]\n",
    "        interviewer_msg = ask_model(interviewer, interviewer_input)\n",
    "        history.append(interviewer_msg)\n",
    "        turn = \"candidate\"\n",
    "    else:\n",
    "        candidate_input = history[-1]\n",
    "        candidate_msg = ask_model(candidate, candidate_input)\n",
    "        history.append(candidate_msg)\n",
    "        turn = \"interviewer\"\n",
    "\n",
    "# Print transcript\n",
    "print(\"\\n\".join(history))"
   ]
  }
 ],
 "metadata": {
  "kernelspec": {
   "display_name": "Python 3",
   "language": "python",
   "name": "python3"
  },
  "language_info": {
   "codemirror_mode": {
    "name": "ipython",
    "version": 3
   },
   "file_extension": ".py",
   "mimetype": "text/x-python",
   "name": "python",
   "nbconvert_exporter": "python",
   "pygments_lexer": "ipython3",
   "version": "3.12.3"
  }
 },
 "nbformat": 4,
 "nbformat_minor": 5
}
